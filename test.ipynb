{
 "cells": [
  {
   "cell_type": "code",
   "execution_count": 1,
   "id": "f4ecb083",
   "metadata": {},
   "outputs": [],
   "source": [
    "import os, sys\n",
    "sys.path.append(\"./core\")\n",
    "\n",
    "from gf2 import gf2, gf2matrix\n",
    "# gf2matrix is not in gf2.py, so do not import it here"
   ]
  },
  {
   "cell_type": "code",
   "execution_count": 2,
   "id": "c9f24296",
   "metadata": {},
   "outputs": [
    {
     "data": {
      "text/plain": [
       "0"
      ]
     },
     "execution_count": 2,
     "metadata": {},
     "output_type": "execute_result"
    }
   ],
   "source": [
    "a = 1\n",
    "b = 0\n",
    "\n",
    "gf2.div(b,a)"
   ]
  },
  {
   "cell_type": "code",
   "execution_count": 6,
   "id": "050d7c4e",
   "metadata": {},
   "outputs": [
    {
     "name": "stdout",
     "output_type": "stream",
     "text": [
      "[[1 1 1]\n",
      " [0 0 0]\n",
      " [0 1 0]]\n"
     ]
    }
   ],
   "source": [
    "random_mat = gf2matrix.random(3, 3, density=0.5)\n",
    "print(random_mat)"
   ]
  },
  {
   "cell_type": "code",
   "execution_count": null,
   "id": "afd29430",
   "metadata": {},
   "outputs": [
    {
     "name": "stdout",
     "output_type": "stream",
     "text": [
      "r1: [[0 0 0]\n",
      " [1 0 1]\n",
      " [1 1 0]]\n",
      "v: [1, 0, 1]\n",
      "r*v: [0 0 1]\n"
     ]
    }
   ],
   "source": [
    "r = gf2matrix.random(3, 3, density=0.5)\n",
    "v = [1,0,1]\n",
    "\n",
    "print(\"r1:\",r)\n",
    "print(\"v:\",v)\n",
    "print(\"r*v:\", r.apply(v))"
   ]
  }
 ],
 "metadata": {
  "kernelspec": {
   "display_name": "Python 3",
   "language": "python",
   "name": "python3"
  },
  "language_info": {
   "codemirror_mode": {
    "name": "ipython",
    "version": 3
   },
   "file_extension": ".py",
   "mimetype": "text/x-python",
   "name": "python",
   "nbconvert_exporter": "python",
   "pygments_lexer": "ipython3",
   "version": "3.13.2"
  }
 },
 "nbformat": 4,
 "nbformat_minor": 5
}
