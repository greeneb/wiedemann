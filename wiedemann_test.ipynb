{
 "cells": [
  {
   "cell_type": "markdown",
   "id": "18164240",
   "metadata": {},
   "source": [
    "## Validating Scalar-Wiedemann Against Brute-Force Nullspace\n",
    "\n",
    "We’ll generate all vectors over GF(2) for small matrices (n≤4), compute their nullspace by brute force, and compare to the kernel vector returned by `ScalarWiedemann.solve`. This will reveal whether the implementation truly finds a nontrivial solution."
   ]
  },
  {
   "cell_type": "code",
   "execution_count": 5,
   "id": "d678f5bb",
   "metadata": {},
   "outputs": [],
   "source": [
    "import sys\n",
    "sys.path.append(\"./core\")\n",
    "from IPython.utils import io\n",
    "\n",
    "import numpy as np\n",
    "from importlib import reload\n",
    "\n",
    "from gf2 import gf2matrix\n",
    "from wiedemann import wiedemann\n",
    "# reload(gf2matrix)\n",
    "# reload(wiedemann)"
   ]
  },
  {
   "cell_type": "code",
   "execution_count": 6,
   "id": "45380055",
   "metadata": {},
   "outputs": [
    {
     "name": "stdout",
     "output_type": "stream",
     "text": [
      "Testing n=2\n",
      "\n",
      "Attempt 1 with a different random vector x_base:\n",
      "[0 1]\n",
      "[array([1, 0], dtype=int8), array([1, 0], dtype=int8), array([1, 0], dtype=int8), array([1, 0], dtype=int8)]\n",
      "[0, 0, 0, 0]\n",
      "None\n",
      "Minimal polynomial: None\n"
     ]
    },
    {
     "ename": "TypeError",
     "evalue": "object of type 'NoneType' has no len()",
     "output_type": "error",
     "traceback": [
      "\u001b[31m---------------------------------------------------------------------------\u001b[39m",
      "\u001b[31mTypeError\u001b[39m                                 Traceback (most recent call last)",
      "\u001b[36mCell\u001b[39m\u001b[36m \u001b[39m\u001b[32mIn[6]\u001b[39m\u001b[32m, line 23\u001b[39m\n\u001b[32m     21\u001b[39m \u001b[38;5;28;01mif\u001b[39;00m \u001b[38;5;129;01mnot\u001b[39;00m brute:\n\u001b[32m     22\u001b[39m     \u001b[38;5;28;01mcontinue\u001b[39;00m\n\u001b[32m---> \u001b[39m\u001b[32m23\u001b[39m w = \u001b[43mwiedemann\u001b[49m\u001b[43m.\u001b[49m\u001b[43msolve\u001b[49m\u001b[43m(\u001b[49m\u001b[43mA\u001b[49m\u001b[43m,\u001b[49m\u001b[43m \u001b[49m\u001b[43mmax_iter\u001b[49m\u001b[43m=\u001b[49m\u001b[32;43m10\u001b[39;49m\u001b[43m,\u001b[49m\u001b[43m \u001b[49m\u001b[43mverbose\u001b[49m\u001b[43m=\u001b[49m\u001b[38;5;28;43;01mTrue\u001b[39;49;00m\u001b[43m)\u001b[49m\n\u001b[32m     24\u001b[39m \u001b[38;5;66;03m# Compare\u001b[39;00m\n\u001b[32m     25\u001b[39m ok = w \u001b[38;5;129;01mis\u001b[39;00m \u001b[38;5;129;01mnot\u001b[39;00m \u001b[38;5;28;01mNone\u001b[39;00m \u001b[38;5;129;01mand\u001b[39;00m \u001b[38;5;28many\u001b[39m(np.array_equal(w, v) \u001b[38;5;28;01mfor\u001b[39;00m v \u001b[38;5;129;01min\u001b[39;00m brute)\n",
      "\u001b[36mFile \u001b[39m\u001b[32mc:\\Users\\bagof\\OneDrive - Duke University\\Duke\\Extracurriculars\\ECC Research\\Wiedemann\\core\\wiedemann.py:56\u001b[39m, in \u001b[36mwiedemann.solve\u001b[39m\u001b[34m(M, max_iter, verbose)\u001b[39m\n\u001b[32m     53\u001b[39m \u001b[38;5;28;01mif\u001b[39;00m verbose: \u001b[38;5;28mprint\u001b[39m(\u001b[33mf\u001b[39m\u001b[33m\"\u001b[39m\u001b[33mMinimal polynomial: \u001b[39m\u001b[38;5;132;01m{\u001b[39;00mq\u001b[38;5;132;01m}\u001b[39;00m\u001b[33m\"\u001b[39m) \u001b[38;5;66;03m# TODO: polynomial tostring\u001b[39;00m\n\u001b[32m     55\u001b[39m \u001b[38;5;66;03m# If the minimal polynomial is trivial, continue to the next attempt\u001b[39;00m\n\u001b[32m---> \u001b[39m\u001b[32m56\u001b[39m \u001b[38;5;28;01mif\u001b[39;00m \u001b[38;5;28;43mlen\u001b[39;49m\u001b[43m(\u001b[49m\u001b[43mq\u001b[49m\u001b[43m)\u001b[49m <= \u001b[32m1\u001b[39m:\n\u001b[32m     57\u001b[39m     \u001b[38;5;28;01mif\u001b[39;00m verbose: \u001b[38;5;28mprint\u001b[39m(\u001b[33m\"\u001b[39m\u001b[33mTrivial minimal polynomial, trying another y vector.\u001b[39m\u001b[33m\"\u001b[39m)\n\u001b[32m     58\u001b[39m     \u001b[38;5;28;01mcontinue\u001b[39;00m\n",
      "\u001b[31mTypeError\u001b[39m: object of type 'NoneType' has no len()"
     ]
    }
   ],
   "source": [
    "import itertools\n",
    "\n",
    "# Brute-force nullspace over GF(2)\n",
    "\n",
    "def brute_nullspace(M):\n",
    "    n = M.n_rows\n",
    "    nulls = []\n",
    "    for vec in itertools.product([0,1], repeat=n):\n",
    "        v = np.array(vec, dtype=np.int8)\n",
    "        if not np.any(M.apply(v)) and np.any(v):\n",
    "            nulls.append(v)\n",
    "    return nulls\n",
    "\n",
    "# Test small matrices\n",
    "for n in range(2,5):\n",
    "    print(f\"Testing n={n}\")\n",
    "    # random sparse matrices\n",
    "    for _ in range(5):\n",
    "        A = gf2matrix.random(n, density=0.5)\n",
    "        brute = brute_nullspace(A)\n",
    "        if not brute:\n",
    "            continue\n",
    "        w = wiedemann.solve(A, max_iter=10, verbose=True)\n",
    "        # Compare\n",
    "        ok = w is not None and any(np.array_equal(w, v) for v in brute)\n",
    "        print(f\"  Matrix A:\")\n",
    "        print(A)\n",
    "        print(f\"  Brute nullspace has {len(brute)} nontrivial vectors\")\n",
    "        if w is None:\n",
    "            print(\"  Wiedemann returned no solution\")\n",
    "        else:\n",
    "            print(\"  Wiedemann solution matches brute force?\", ok)\n",
    "    print()"
   ]
  },
  {
   "cell_type": "markdown",
   "id": "4ed876c3",
   "metadata": {},
   "source": [
    "### Why No Solutions Recorded\n",
    "\n",
    "- The scalar Wiedemann `solve` method finds a nontrivial nullspace vector **only** if the matrix has a nonzero kernel.  \n",
    "- Random sparse matrices over GF(2) are often full rank (no nonzero nullspace), so `solve` correctly returns `None`.  \n",
    "- This does _not_ indicate a bug: there simply isn’t a nonzero solution to find.  \n",
    "\n",
    "Let’s test on a small, explicitly singular matrix where we know a nullspace exists."
   ]
  },
  {
   "cell_type": "code",
   "execution_count": 10,
   "id": "254c20ee",
   "metadata": {},
   "outputs": [
    {
     "name": "stdout",
     "output_type": "stream",
     "text": [
      "\n",
      "Singular matrix example:\n",
      "[[1 1 0]\n",
      " [1 1 0]\n",
      " [0 0 1]]\n",
      "Expected nullspace: any vector of form [v, v, 0]\n",
      "\n",
      "Attempt 1 with a different random vector x_base:\n",
      "[1 0 0]\n",
      "[array([1, 1, 0], dtype=int8), array([0, 0, 0], dtype=int8), array([0, 0, 0], dtype=int8), array([0, 0, 0], dtype=int8), array([0, 0, 0], dtype=int8), array([0, 0, 0], dtype=int8)]\n",
      "[0, 0, 0, 0, 0, 0]\n",
      "None\n",
      "Minimal polynomial: None\n"
     ]
    },
    {
     "ename": "TypeError",
     "evalue": "object of type 'NoneType' has no len()",
     "output_type": "error",
     "traceback": [
      "\u001b[31m---------------------------------------------------------------------------\u001b[39m",
      "\u001b[31mTypeError\u001b[39m                                 Traceback (most recent call last)",
      "\u001b[36mCell\u001b[39m\u001b[36m \u001b[39m\u001b[32mIn[10]\u001b[39m\u001b[32m, line 14\u001b[39m\n\u001b[32m     11\u001b[39m     \u001b[38;5;28mprint\u001b[39m(\u001b[33m\"\u001b[39m\u001b[33mComputed w:\u001b[39m\u001b[33m\"\u001b[39m, w)\n\u001b[32m     12\u001b[39m     \u001b[38;5;28mprint\u001b[39m(\u001b[33m\"\u001b[39m\u001b[33mVerification A·w:\u001b[39m\u001b[33m\"\u001b[39m, A.apply(w))\n\u001b[32m---> \u001b[39m\u001b[32m14\u001b[39m \u001b[43mexample_singular\u001b[49m\u001b[43m(\u001b[49m\u001b[43m)\u001b[49m\n",
      "\u001b[36mCell\u001b[39m\u001b[36m \u001b[39m\u001b[32mIn[10]\u001b[39m\u001b[32m, line 7\u001b[39m, in \u001b[36mexample_singular\u001b[39m\u001b[34m()\u001b[39m\n\u001b[32m      5\u001b[39m \u001b[38;5;28mprint\u001b[39m(A)\n\u001b[32m      6\u001b[39m \u001b[38;5;28mprint\u001b[39m(\u001b[33m\"\u001b[39m\u001b[33mExpected nullspace: any vector of form [v, v, 0]\u001b[39m\u001b[33m\"\u001b[39m)\n\u001b[32m----> \u001b[39m\u001b[32m7\u001b[39m w = \u001b[43mwiedemann\u001b[49m\u001b[43m.\u001b[49m\u001b[43msolve\u001b[49m\u001b[43m(\u001b[49m\u001b[43mA\u001b[49m\u001b[43m,\u001b[49m\u001b[43m \u001b[49m\u001b[43mmax_iter\u001b[49m\u001b[43m=\u001b[49m\u001b[32;43m3\u001b[39;49m\u001b[43m,\u001b[49m\u001b[43m \u001b[49m\u001b[43mverbose\u001b[49m\u001b[43m=\u001b[49m\u001b[38;5;28;43;01mTrue\u001b[39;49;00m\u001b[43m)\u001b[49m\n\u001b[32m      8\u001b[39m \u001b[38;5;28;01mif\u001b[39;00m \u001b[38;5;129;01mnot\u001b[39;00m w:\n\u001b[32m      9\u001b[39m     \u001b[38;5;28mprint\u001b[39m(\u001b[33m\"\u001b[39m\u001b[33mWiedemann failed to find a solution\u001b[39m\u001b[33m\"\u001b[39m)\n",
      "\u001b[36mFile \u001b[39m\u001b[32mc:\\Users\\bagof\\OneDrive - Duke University\\Duke\\Extracurriculars\\ECC Research\\Wiedemann\\core\\wiedemann.py:56\u001b[39m, in \u001b[36mwiedemann.solve\u001b[39m\u001b[34m(M, max_iter, verbose)\u001b[39m\n\u001b[32m     53\u001b[39m \u001b[38;5;28;01mif\u001b[39;00m verbose: \u001b[38;5;28mprint\u001b[39m(\u001b[33mf\u001b[39m\u001b[33m\"\u001b[39m\u001b[33mMinimal polynomial: \u001b[39m\u001b[38;5;132;01m{\u001b[39;00mq\u001b[38;5;132;01m}\u001b[39;00m\u001b[33m\"\u001b[39m) \u001b[38;5;66;03m# TODO: polynomial tostring\u001b[39;00m\n\u001b[32m     55\u001b[39m \u001b[38;5;66;03m# If the minimal polynomial is trivial, continue to the next attempt\u001b[39;00m\n\u001b[32m---> \u001b[39m\u001b[32m56\u001b[39m \u001b[38;5;28;01mif\u001b[39;00m \u001b[38;5;28;43mlen\u001b[39;49m\u001b[43m(\u001b[49m\u001b[43mq\u001b[49m\u001b[43m)\u001b[49m <= \u001b[32m1\u001b[39m:\n\u001b[32m     57\u001b[39m     \u001b[38;5;28;01mif\u001b[39;00m verbose: \u001b[38;5;28mprint\u001b[39m(\u001b[33m\"\u001b[39m\u001b[33mTrivial minimal polynomial, trying another y vector.\u001b[39m\u001b[33m\"\u001b[39m)\n\u001b[32m     58\u001b[39m     \u001b[38;5;28;01mcontinue\u001b[39;00m\n",
      "\u001b[31mTypeError\u001b[39m: object of type 'NoneType' has no len()"
     ]
    }
   ],
   "source": [
    "# Known singular matrix example\n",
    "def example_singular():\n",
    "    print(\"\\nSingular matrix example:\")\n",
    "    A = gf2matrix.from_dense(np.array([[1,1,0],[1,1,0],[0,0,1]], dtype=np.int8))\n",
    "    print(A)\n",
    "    print(\"Expected nullspace: any vector of form [v, v, 0]\")\n",
    "    w = wiedemann.solve(A, max_iter=3, verbose=True)\n",
    "    if not w:\n",
    "        print(\"Wiedemann failed to find a solution\")\n",
    "        return\n",
    "    print(\"Computed w:\", w)\n",
    "    print(\"Verification A·w:\", A.apply(w))\n",
    "\n",
    "example_singular()"
   ]
  },
  {
   "cell_type": "markdown",
   "id": "7c8e3aac",
   "metadata": {},
   "source": [
    "### Why Scalar-Wiedemann May Still Miss Singular Kernels\n",
    "\n",
    "Even when the matrix is singular, the **scalar** Wiedemann algorithm can fail to find a nullspace vector because it computes the minimal polynomial of the **projected** sequence:\n",
    "\n",
    "```\n",
    "S_y[i] = y^T · M^i · u\n",
    "```\n",
    "\n",
    "For a singular matrix, detecting the zero eigenvalue requires that `y^T · u` be nonzero on some part of the nullspace. If the random left vector `y` is orthogonal to the actual nullspace component of `u`, then the projected sequence never “sees” the zero eigenvalue and its minimal polynomial will not have `x` as a factor. As a result:\n",
    "- The scalar minimal polynomial has constant term 1 (no zero-root).\n",
    "- Kernel reconstruction yields a trivial solution.\n",
    "\n",
    "**Takeaway:**\n",
    "- The scalar (1×1) approach is *not guaranteed* to detect a nullspace even if one exists.\n",
    "- To reliably find nullspace vectors for singular matrices, use the **Block Wiedemann** algorithm (choose multiple left projections) or repeat with many different random `(u,y)` pairs until one “hits” the nullspace.\n"
   ]
  }
 ],
 "metadata": {
  "kernelspec": {
   "display_name": "Python 3",
   "language": "python",
   "name": "python3"
  },
  "language_info": {
   "codemirror_mode": {
    "name": "ipython",
    "version": 3
   },
   "file_extension": ".py",
   "mimetype": "text/x-python",
   "name": "python",
   "nbconvert_exporter": "python",
   "pygments_lexer": "ipython3",
   "version": "3.13.2"
  }
 },
 "nbformat": 4,
 "nbformat_minor": 5
}
