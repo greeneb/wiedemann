{
 "cells": [
  {
   "cell_type": "code",
   "execution_count": 1,
   "id": "f4ecb083",
   "metadata": {},
   "outputs": [],
   "source": [
    "import os, sys\n",
    "sys.path.append(\"./core\")\n",
    "\n",
    "import numpy as np\n",
    "from importlib import reload\n",
    "\n",
    "from gf2 import gf2, gf2matrix\n",
    "# gf2matrix is not in gf2.py, so do not import it here"
   ]
  },
  {
   "cell_type": "code",
   "execution_count": 2,
   "id": "c9f24296",
   "metadata": {},
   "outputs": [
    {
     "data": {
      "text/plain": [
       "0"
      ]
     },
     "execution_count": 2,
     "metadata": {},
     "output_type": "execute_result"
    }
   ],
   "source": [
    "a = 1\n",
    "b = 0\n",
    "\n",
    "gf2.div(b,a)"
   ]
  },
  {
   "cell_type": "code",
   "execution_count": 3,
   "id": "050d7c4e",
   "metadata": {},
   "outputs": [
    {
     "name": "stdout",
     "output_type": "stream",
     "text": [
      "[[0 1 0]\n",
      " [0 1 1]\n",
      " [0 1 0]]\n"
     ]
    }
   ],
   "source": [
    "random_mat = gf2matrix.random(3, 3, density=0.5)\n",
    "print(random_mat)"
   ]
  },
  {
   "cell_type": "code",
   "execution_count": 4,
   "id": "afd29430",
   "metadata": {},
   "outputs": [
    {
     "name": "stdout",
     "output_type": "stream",
     "text": [
      "r1: [[1 0 1]\n",
      " [1 0 0]\n",
      " [0 0 1]]\n",
      "v: [1, 0, 1]\n",
      "r*v: [0 1 1]\n"
     ]
    }
   ],
   "source": [
    "r = gf2matrix.random(3, 3, density=0.5)\n",
    "v = [1,0,1]\n",
    "\n",
    "print(\"r1:\",r)\n",
    "print(\"v:\",v)\n",
    "print(\"r*v:\", r.apply(v))"
   ]
  },
  {
   "cell_type": "code",
   "execution_count": 5,
   "id": "9e16831d",
   "metadata": {},
   "outputs": [
    {
     "data": {
      "text/plain": [
       "<module 'berlekamp_massey' from 'c:\\\\Users\\\\bagof\\\\OneDrive - Duke University\\\\Duke\\\\Extracurriculars\\\\ECC Research\\\\Wiedemann\\\\core\\\\berlekamp_massey.py'>"
      ]
     },
     "execution_count": 5,
     "metadata": {},
     "output_type": "execute_result"
    }
   ],
   "source": [
    "import berlekamp_massey\n",
    "reload(berlekamp_massey)"
   ]
  },
  {
   "cell_type": "code",
   "execution_count": 6,
   "id": "a4996dee",
   "metadata": {},
   "outputs": [
    {
     "name": "stdout",
     "output_type": "stream",
     "text": [
      "Input sequence: [0, 0, 1, 0, 0, 0, 0, 0, 1, 1, 0]\n",
      "Minimal polynomial (LFSR): [1, 1, 1, 0, 0, 0, 1, 0]\n"
     ]
    }
   ],
   "source": [
    "# Example sequence over GF(2)\n",
    "# seq = [0, 0, 1, 1, 0, 1, 0]\n",
    "seq = [0, 0, 1, 0, 0, 0, 0, 0, 1, 1, 0]  # input sequence\n",
    "\n",
    "# Run Berlekamp-Massey algorithm\n",
    "lfsr_poly = berlekamp_massey.berlekamp_massey.find_minimal_polynomial(seq)\n",
    "\n",
    "print(\"Input sequence:\", seq)\n",
    "print(\"Minimal polynomial (LFSR):\", lfsr_poly)\n",
    "# Should get [1, 1, 0, 1] for the example sequence --> C(x)=1 + x + x^3"
   ]
  },
  {
   "cell_type": "code",
   "execution_count": 7,
   "id": "d66b75d6",
   "metadata": {},
   "outputs": [
    {
     "name": "stdout",
     "output_type": "stream",
     "text": [
      "-----------------------------------------------------------------------\n",
      "Solution is: [1, 1, 1, 2, 2, 2, 1]\n"
     ]
    }
   ],
   "source": [
    "# Berlekamp-Massey Algorithm over GF(2)\n",
    "\n",
    "s = [0, 0, 1, 0, 0, 0, 0, 0, 1, 1, 0]  # input sequence\n",
    "# s = [0,0,1,1,0,1,0]\n",
    "n = len(s)\n",
    "C = [1]\n",
    "B = [1]\n",
    "L = 0\n",
    "m = -1\n",
    "\n",
    "for N in range(n):\n",
    "    # Compute discrepancy d\n",
    "    d = s[N]\n",
    "    for i in range(1, L + 1):\n",
    "        d += C[i] * s[N - i] if N - i >= 0 else 0\n",
    "    if d == 1:\n",
    "        temp = C.copy()\n",
    "        # Pad B with zeros\n",
    "        pad = [0] * (N - m)\n",
    "        Bpad = pad + B\n",
    "        # Extend C or Bpad to same length\n",
    "        if len(C) < len(Bpad):\n",
    "            C += [0] * (len(Bpad) - len(C))\n",
    "        else:\n",
    "            Bpad += [0] * (len(C) - len(Bpad))\n",
    "        # Update C\n",
    "        C = [c + b for c, b in zip(C, Bpad)]\n",
    "        if L <= N // 2:\n",
    "            L = N + 1 - L\n",
    "            m = N\n",
    "            B = temp\n",
    "    # Optionally print progress\n",
    "    # print(f'N={N}, L={L}, C={C}')\n",
    "\n",
    "# Print the minimal polynomial\n",
    "print('-----------------------------------------------------------------------')\n",
    "print('Solution is:', end=' ')\n",
    "# terms = []\n",
    "# for j, coeff in enumerate(C):\n",
    "#     if coeff == 1:\n",
    "#         if j == 0:\n",
    "#             terms.append('1')\n",
    "#         elif j == 1:\n",
    "#             terms.append('x')\n",
    "#         else:\n",
    "#             terms.append(f'x^{j}')\n",
    "# print(' + '.join(terms))\n",
    "print(C)\n"
   ]
  },
  {
   "cell_type": "code",
   "execution_count": 8,
   "id": "bb33bec4",
   "metadata": {},
   "outputs": [
    {
     "name": "stdout",
     "output_type": "stream",
     "text": [
      "1 1 0 0 0 1\n"
     ]
    }
   ],
   "source": [
    "MOD = 2\n",
    "def fp(a, k):\n",
    "    return pow(a, k, MOD)\n",
    "def bm(a):\n",
    "    n = len(a) - 1  \n",
    "    ans_coef = []  \n",
    "    lst = []  \n",
    "    w = 0  \n",
    "    delta = 0  \n",
    "    for i in range(1, n + 1):\n",
    "        tmp = 0\n",
    "        for j in range(len(ans_coef)):\n",
    "            if i - 1 - j >= 1:\n",
    "                tmp = (tmp + a[i - 1 - j] * ans_coef[j]) % MOD\n",
    "        discrepancy = (a[i] - tmp + MOD) % MOD\n",
    "        if discrepancy == 0:\n",
    "            continue  \n",
    "        if w == 0:\n",
    "            ans_coef = [0] * i  \n",
    "            w = i\n",
    "            delta = discrepancy\n",
    "            continue\n",
    "        now = list(ans_coef)\n",
    "        mul = discrepancy * fp(delta, MOD - 2) % MOD\n",
    "        needed_len = len(lst) + i - w\n",
    "        if len(ans_coef) < needed_len:\n",
    "            ans_coef.extend([0] * (needed_len - len(ans_coef)))\n",
    "        if i - w - 1 >= 0:\n",
    "            ans_coef[i - w - 1] = (ans_coef[i - w - 1] + mul) % MOD\n",
    "        for j in range(len(lst)):\n",
    "            idx = i - w + j\n",
    "            if idx < len(ans_coef):  \n",
    "                term_to_subtract = (mul * lst[j]) % MOD\n",
    "                ans_coef[idx] = (ans_coef[idx] - term_to_subtract + MOD) % MOD\n",
    "        if len(ans_coef) > len(now):  \n",
    "            lst = now\n",
    "            w = i\n",
    "            delta = discrepancy\n",
    "    return [(x + MOD) % MOD for x in ans_coef]\n",
    "def calculate_term(m, coef, h):\n",
    "    k = len(coef)\n",
    "    if m < len(h):\n",
    "        return (h[m] + MOD) % MOD\n",
    "    if k == 0:  \n",
    "        return 0\n",
    "    p_coeffs = [0] * (k + 1)\n",
    "    p_coeffs[0] = (MOD - 1) % MOD  \n",
    "    for i in range(k):\n",
    "        p_coeffs[i + 1] = coef[i]\n",
    "    def poly_mul(a, b, degree_k, p_poly):\n",
    "        res = [0] * (2 * degree_k)\n",
    "        for i in range(degree_k):\n",
    "            if a[i] == 0: continue\n",
    "            for j in range(degree_k):\n",
    "                res[i + j] = (res[i + j] + a[i] * b[j]) % MOD\n",
    "        for i in range(2 * degree_k - 1, degree_k - 1, -1):\n",
    "            if res[i] == 0: continue\n",
    "            term = res[i]\n",
    "            res[i] = 0  \n",
    "            for j in range(degree_k + 1):\n",
    "                idx = i - j\n",
    "                if idx >= 0:\n",
    "                    res[idx] = (res[idx] + term * p_poly[j]) % MOD\n",
    "        return res[:degree_k]\n",
    "    f = [0] * k\n",
    "    g = [0] * k\n",
    "    f[0] = 1  \n",
    "    if k == 1:\n",
    "        if k == 1:\n",
    "            g[0] = p_coeffs[1]  \n",
    "        else:\n",
    "            g[1] = 1  \n",
    "    else:  \n",
    "        g[1] = 1  \n",
    "    power = m\n",
    "    while power > 0:\n",
    "        if power & 1:\n",
    "            f = poly_mul(f, g, k, p_coeffs)\n",
    "        g = poly_mul(g, g, k, p_coeffs)\n",
    "        power >>= 1\n",
    "    final_ans = 0\n",
    "    for i in range(k):\n",
    "        if i + 1 < len(h):\n",
    "            final_ans = (final_ans + h[i + 1] * f[i]) % MOD\n",
    "    return (final_ans + MOD) % MOD\n",
    "def solve():\n",
    "    h_input = [0, 0, 1, 0, 0, 0, 0, 0, 1, 1, 0]\n",
    "    n=len(h_input)\n",
    "    h = [0] + h_input\n",
    "    ans_coef = bm(h)\n",
    "    print(*((x + MOD) % MOD for x in ans_coef))\n",
    "    # m=10\n",
    "    # result = calculate_term(m, ans_coef, h)\n",
    "    # print((result + MOD) % MOD)\n",
    "\n",
    "solve()"
   ]
  },
  {
   "cell_type": "markdown",
   "id": "ff662972",
   "metadata": {},
   "source": [
    "### Comparing Berlekamp–Massey Implementations\n",
    "\n",
    "The three implementations above differ in the following ways:\n",
    "\n",
    "- **`berlekamp_massey.min_poly`**: A static GF(2) version returning a full connection polynomial `C(x) = c_0 + c_1 x + ... + c_L x^L`, with arithmetic optimized for XOR.\n",
    "- **Manual GF(2) cell**: Uses explicit integer addition/multiplication mod 2 and index offsets (`m`, `w`) that may shift coefficients differently (off-by-one in shift conventions).\n",
    "- **Generic `bm(a)` function**: Works over any prime modulus (here `MOD = 2`), uses inverses for discrepancy normalization, and may return coefficients without the leading `c_0 = 1`.\n",
    "\n",
    "All three should satisfy the annihilation property: for a polynomial of degree `L`, the sequence convolution\n",
    "\n",
    "```\n",
    "\\sum_{j=0}^L c_j * s[i - j] ≡ 0  (mod MOD)\n",
    "```\n",
    "\n",
    "for all `i ≥ L`. We’ll add a test below to verify each returned polynomial on the same input sequence."
   ]
  },
  {
   "cell_type": "code",
   "execution_count": 9,
   "id": "740360d9",
   "metadata": {},
   "outputs": [
    {
     "name": "stdout",
     "output_type": "stream",
     "text": [
      "poly1: [1, 0, 1, 1, 0, 0, 0] valid: True\n",
      "poly3: [0, 1, 1] valid: False\n"
     ]
    }
   ],
   "source": [
    "# Validation: test annihilation property for each implementation\n",
    "\n",
    "def test_annihilation(sequence, poly):\n",
    "    L = len(poly) - 1\n",
    "    # verify for all i >= L\n",
    "    for i in range(L, len(sequence)):\n",
    "        acc = 0\n",
    "        for j, c in enumerate(poly):\n",
    "            acc = (acc + c * sequence[i - j]) % MOD\n",
    "        if acc != 0:\n",
    "            return False\n",
    "    return True\n",
    "\n",
    "# Input sequence\n",
    "s = np.random.randint(0, 2, 8).astype(list)  # Random sequence of 0s and 1s\n",
    "\n",
    "# 1st implementation (min_poly)\n",
    "poly1 = berlekamp_massey.berlekamp_massey.find_minimal_polynomial(s)\n",
    "# 2nd manual cell C\n",
    "# reuse C from the manual cell above (compute again if needed)\n",
    "# poly2 = C\n",
    "# 3rd generic bm(a)\n",
    "poly3 = bm([0] + s)\n",
    "\n",
    "print(\"poly1:\", poly1, \"valid:\", test_annihilation(s, poly1))\n",
    "#print(\"poly2:\", poly2, \"valid:\", test_annihilation(s, poly2))\n",
    "print(\"poly3:\", poly3, \"valid:\", test_annihilation([0]+s, poly3))"
   ]
  },
  {
   "cell_type": "code",
   "execution_count": 10,
   "id": "d46d4c8b",
   "metadata": {},
   "outputs": [],
   "source": [
    "from scalar_wiedemann import ScalarWiedemann"
   ]
  },
  {
   "cell_type": "code",
   "execution_count": 42,
   "id": "ff42d7f5",
   "metadata": {},
   "outputs": [
    {
     "name": "stdout",
     "output_type": "stream",
     "text": [
      "Matrix A:\n",
      "[[1 1 0 0 1]\n",
      " [0 0 0 0 0]\n",
      " [0 0 0 1 1]\n",
      " [0 0 1 0 1]\n",
      " [1 0 0 0 1]]\n",
      "\n",
      "True solution x_true:\n",
      "[1 0 1 0 1]\n",
      "\n",
      "Right-hand side b = Ax:\n",
      "[0 0 1 0 0]\n",
      "\n",
      "Attempt 1 with a different random vector u:\n",
      "Minimal polynomial: [1, 1, 0, 0]\n",
      "Minimal polynomial does not annihilate S, trying another y vector.\n",
      "\n",
      "Attempt 2 with a different random vector u:\n",
      "Minimal polynomial: [1, 1, 0]\n",
      "Minimal polynomial does not annihilate S, trying another y vector.\n",
      "\n",
      "Attempt 3 with a different random vector u:\n",
      "Minimal polynomial: [1, 0, 1, 0, 0, 0]\n",
      "Minimal polynomial does not annihilate S, trying another y vector.\n",
      "\n",
      "Attempt 4 with a different random vector u:\n",
      "Minimal polynomial: [1, 0, 1, 0, 0]\n",
      "Minimal polynomial does not annihilate S, trying another y vector.\n",
      "\n",
      "Attempt 5 with a different random vector u:\n",
      "Minimal polynomial: [1, 0, 0, 0]\n",
      "Minimal polynomial does not annihilate S, trying another y vector.\n",
      "\n",
      "No solution was found.\n",
      "\n",
      "\n",
      "Testing with a random sparse matrix:\n",
      "Random sparse matrix A:\n",
      "[[0 0 0 1 0 1 0 1]\n",
      " [0 1 1 0 0 0 1 0]\n",
      " [0 0 1 0 0 0 0 0]\n",
      " [0 1 0 1 0 0 0 0]\n",
      " [0 0 0 0 0 1 0 0]\n",
      " [1 1 1 0 0 0 1 0]\n",
      " [1 1 0 0 0 0 1 0]\n",
      " [0 0 0 0 1 0 1 0]]\n",
      "\n",
      "Attempt 1 with a different random vector u:\n",
      "Minimal polynomial: [1, 0, 0, 0, 0, 0, 0, 1, 0, 0, 0, 0]\n",
      "Minimal polynomial does not annihilate S, trying another y vector.\n",
      "\n",
      "Attempt 2 with a different random vector u:\n",
      "Minimal polynomial: [1, 1, 0, 1, 0]\n",
      "Minimal polynomial does not annihilate S, trying another y vector.\n",
      "\n",
      "Attempt 3 with a different random vector u:\n",
      "Minimal polynomial: [1, 1, 1, 0, 1, 0]\n",
      "Minimal polynomial does not annihilate S, trying another y vector.\n",
      "\n",
      "Attempt 4 with a different random vector u:\n",
      "Minimal polynomial: [1, 1, 1, 1, 1, 1, 1, 0, 0]\n",
      "Minimal polynomial does not annihilate S, trying another y vector.\n",
      "\n",
      "Attempt 5 with a different random vector u:\n",
      "Minimal polynomial: [1, 1, 1, 1, 1, 1, 1, 0, 0, 0, 0]\n",
      "Minimal polynomial does not annihilate S, trying another y vector.\n",
      "\n",
      "No solution was found.\n"
     ]
    }
   ],
   "source": [
    "# Test the implementation\n",
    "def test_scalar_wiedemann():\n",
    "    \"\"\"Test the scalar Wiedemann implementation with a known matrix and solution\"\"\"\n",
    "    # Create a matrix and a solution\n",
    "    n = 5\n",
    "    A_dense = np.array([\n",
    "        [1, 1, 0, 0, 1],\n",
    "        [0, 0, 0, 0, 0],\n",
    "        [0, 0, 0, 1, 1],\n",
    "        [0, 0, 1, 0, 1],\n",
    "        [1, 0, 0, 0, 1]\n",
    "    ], dtype=np.int8)\n",
    "    \n",
    "    A = gf2matrix.from_dense(A_dense)\n",
    "    \n",
    "    # Choose a true solution\n",
    "    x_true = np.array([1, 0, 1, 0, 1], dtype=np.int8)\n",
    "    \n",
    "    # Calculate the right-hand side b = Ax\n",
    "    b = A.apply(x_true)\n",
    "    \n",
    "    print(\"Matrix A:\")\n",
    "    print(A)\n",
    "    print(\"\\nTrue solution x_true:\")\n",
    "    print(x_true)\n",
    "    print(\"\\nRight-hand side b = Ax:\")\n",
    "    print(b)\n",
    "    \n",
    "    # Solve using the Scalar Wiedemann Algorithm\n",
    "    x_solution = ScalarWiedemann.solve(A)\n",
    "    \n",
    "    # Check the solution\n",
    "    if x_solution is not None:\n",
    "        print(\"\\nComputed solution x_solution:\")\n",
    "        print(x_solution)\n",
    "        \n",
    "        # Verify: A * x_solution should equal b\n",
    "        b_verify = A.apply(x_solution)\n",
    "        print(\"\\nFinal verification: A * x_solution =\")\n",
    "        print(b_verify)\n",
    "        print(\"Matches b:\", np.array_equal(b, b_verify))\n",
    "        print(\"Matches x_true:\", np.array_equal(x_true, x_solution))\n",
    "    else:\n",
    "        print(\"\\nNo solution was found.\")\n",
    "\n",
    "# Run the test\n",
    "test_scalar_wiedemann()\n",
    "\n",
    "# Also demonstrate with a random sparse matrix\n",
    "def test_random_matrix():\n",
    "    \"\"\"Test the scalar Wiedemann implementation with a random matrix\"\"\"\n",
    "    print(\"\\n\\nTesting with a random sparse matrix:\")\n",
    "    \n",
    "    # Create a random sparse matrix\n",
    "    n = 8\n",
    "    A = gf2matrix.random(n, density=0.3)\n",
    "    \n",
    "    print(\"Random sparse matrix A:\")\n",
    "    print(A)\n",
    "    \n",
    "    x_solution = ScalarWiedemann.solve(A)\n",
    "    if x_solution is not None:\n",
    "        print(\"\\nComputed solution x_solution:\")\n",
    "        print(x_solution)\n",
    "        \n",
    "        # Verify: A * x_solution should equal 0\n",
    "        b = A.apply(x_solution)\n",
    "        print(\"\\nRight-hand side Ax=0:\")\n",
    "        print(b)\n",
    "        print(\"Matches zero vector:\", np.array_equal(b, np.zeros(n, dtype=np.int8)))\n",
    "    else:\n",
    "        print(\"\\nNo solution was found.\")\n",
    "\n",
    "# Run the test with a random matrix\n",
    "test_random_matrix()"
   ]
  }
 ],
 "metadata": {
  "kernelspec": {
   "display_name": "Python 3",
   "language": "python",
   "name": "python3"
  },
  "language_info": {
   "codemirror_mode": {
    "name": "ipython",
    "version": 3
   },
   "file_extension": ".py",
   "mimetype": "text/x-python",
   "name": "python",
   "nbconvert_exporter": "python",
   "pygments_lexer": "ipython3",
   "version": "3.13.2"
  }
 },
 "nbformat": 4,
 "nbformat_minor": 5
}
